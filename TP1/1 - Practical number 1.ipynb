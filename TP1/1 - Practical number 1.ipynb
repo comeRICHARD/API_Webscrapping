{
 "cells": [
  {
   "cell_type": "markdown",
   "metadata": {},
   "source": [
    "# General Knowledge of API\n",
    "\n",
    "APIs, or Application Programming Interfaces, play a pivotal role in modern software development by facilitating communication and data exchange between different systems. They serve as bridges that allow applications to interact with each other seamlessly, enabling the creation of more robust and interconnected software.\n",
    "\n",
    "APIs come in various forms, each serving specific purposes in the realm of software development. Let's explore some fundamental concepts:"
   ]
  },
  {
   "cell_type": "markdown",
   "metadata": {},
   "source": [
    "- **Question 1:** *Name three types of API protocols. Briefly explain the primary use of each.*\n",
    "\n",
    "  - REST API, largely used. Allows to use cache, will always send a response (100,200,300,400,500), utilise mots clés POST,GET...\n",
    "\n",
    "  - SOAP depreciated, utilisé pour donnée sensibles (banques, santé...), sécurisé, pas trivial.\n",
    "\n",
    "  - gRPC work on http2, futur, utilisé chez google, bcp + rapide, permet d'échanger des stream.\n",
    "\n",
    "  \n",
    "\n",
    "\n",
    "- **Question 2:** *What are the HTTP response code families? And what do they mean?*\n",
    "\n",
    "  - 100 - Serveur a bien recu les headers de la requete\n",
    "  - 200 - La requête a marché \n",
    "  - 300 - Redirection comme pour sur un site web\n",
    "  - 400 - problème client, requête faîte sur donnée inexistante\n",
    "  - 500 - problème coté serveur \n",
    "\n",
    "  Understanding these families helps developers diagnose and troubleshoot issues during API interactions.\n",
    "\n",
    "- **Question 3:** *What do the HTTP response codes 201, 401, and 404 mean?*\n",
    "\n",
    "  - **201:** The request was successful and a new resource was created.\n",
    "  - **401:** The client must authenticate itself to get the requested response.\n",
    "  - **404:** The server can not find the requested resource.\n",
    "\n",
    "- **Question 4:** *Name the 4 basic HTTP verbs.*\n",
    "\n",
    "  - Get pour requeter des données\n",
    "  - POST pour enregistrer nouvelles données sur serveur \n",
    "  - DELETE pour supprimer des données\n",
    "  - Patch pour modifier une partie/totalité des données\n",
    "\n",
    "- **Question 5:** *Explain the difference between PUT and PATCH?*\n",
    "\n",
    "  - **PUT:** :change la totalité des donnée\n",
    "\n",
    "  - **PATCH:** :change une partie ou la totalité de celle ci\n",
    "\n",
    "- **Question 6:** *Name at least two data formats commonly used in API exchanges.*\n",
    "\n",
    "  - JSON\n",
    "\n",
    "  - XML\n",
    "\n",
    "- **Question 7:** *How can you verify the validity of a resource without getting the entire response?*\n",
    "\n",
    "  - With the headers.\n",
    "\n",
    "- **Question 8:** *What are the main concepts of REST? (name them)*\n",
    "\n",
    "  - Resources\n",
    "  - Representation\n",
    "  - Stateless\n",
    "  - Client-Server Architecture:\n",
    "\n",
    "\n",
    "- **Question 9:** *Can you explain one of the main concepts of your choice from among those you mention? (Give an example if possible)*\n",
    "\n",
    "  - Stateless : Each request from a client to a server must contain all the information the server needs to fulfill that request. The server does not store any state about the latest HTTP request served\n",
    "\n",
    "In the subsequent sections, we will delve into practical exercises to apply and deepen our understanding of these concepts using SOAP, REST, and GraphQL APIs.\n"
   ]
  },
  {
   "cell_type": "markdown",
   "metadata": {},
   "source": [
    "--------------------------"
   ]
  },
  {
   "cell_type": "markdown",
   "metadata": {},
   "source": [
    "# Exploring SOAP APIs\n",
    "\n",
    "### Few elements to remember about the SOAP Protocol\n",
    "\n",
    "The SOAP protocol, which means Simple Object Access Protocol, is one of the earliest web service protocols. SOAP is an XML-based protocol and was designed to provide a platform/language-independent way to exchange data between different systems over the internet.\n",
    "\n",
    "### Key Concepts in SOAP:\n",
    "\n",
    "- **XML-Based Structure:** SOAP messages are structured using XML, making them both human-readable and machine-readable. This structure allows for the encapsulation of data and its transport between systems.\n",
    "\n",
    "- **Platform and Language Independence:** One of the core objectives of SOAP is to provide a communication method that is independent of the underlying platform or programming language. This promotes interoperability between diverse systems.\n",
    "\n",
    "- **Message Format:** SOAP messages consist of an envelope that defines the message structure and rules for processing, a set of encoding rules for data types, and conventions for representing remote procedure calls.\n",
    "\n",
    "- **Transport Neutrality:** SOAP can be used with various transport protocols, including HTTP, SMTP, and more. This flexibility in transport makes it adaptable to different network environments.\n",
    "\n",
    "### Objective\n",
    "\n",
    "Obtain and display the capital of the Canada corresponding to the ISO code \"CA\" using the following SOAP API. \n",
    "Step by step guide :\n",
    "\n",
    "- **Step 1:** Examine the XML structure of the SOAP request provided. Identify the tag name that contains the ISO country code and the tag that will return the capital name.\n",
    "\n",
    "- **Step 2:** Modify the existing SOAP request to use the ISO code \"CA\" isntead of \"FR\". Ensure that the XML structure remains correct.\n",
    "\n",
    "- **Step 3:** Use the modified request to send a request to the SOAP services at the specified URL.\n",
    "\n",
    "- **Step 4:** Analyze the response received. Extract and display the capital name from the SOAP response.\n",
    "\n",
    "- **Step 5:** Remove sections of code that are not necessary to achieve this objective, in order to simply the script.\n",
    "\n",
    "\n",
    "### Documentation link :\n",
    "\n",
    "- https://www.postman.com/cs-demo/workspace/postman-customer-org-s-public-workspace/documentation/8854915-43f6a9be-0c65-4486-bfdf-36b6548161dd?entity=request-96a53688-6305-45be-ab8b-ca1d1c88f830\n",
    "- https://docs.insomnia.rest/"
   ]
  },
  {
   "cell_type": "code",
   "execution_count": 2,
   "metadata": {},
   "outputs": [
    {
     "name": "stdout",
     "output_type": "stream",
     "text": [
      "<?xml version=\"1.0\" encoding=\"utf-8\"?>\n",
      "<soap:Envelope xmlns:soap=\"http://schemas.xmlsoap.org/soap/envelope/\">\n",
      "  <soap:Body>\n",
      "    <m:CapitalCityResponse xmlns:m=\"http://www.oorsprong.org/websamples.countryinfo\">\n",
      "      <m:CapitalCityResult>Ottawa</m:CapitalCityResult>\n",
      "    </m:CapitalCityResponse>\n",
      "  </soap:Body>\n",
      "</soap:Envelope>\n"
     ]
    }
   ],
   "source": [
    "import requests\n",
    "# SOAP request URL\n",
    "url = \"http://webservices.oorsprong.org/websamples.countryinfo/CountryInfoService.wso\"\n",
    "\n",
    "# structured XML\n",
    "payload = \"\"\"<soap:Envelope xmlns:soap=\"http://schemas.xmlsoap.org/soap/envelope/\">\n",
    "                <soap:Body>\n",
    "                    <CapitalCity xmlns=\"http://www.oorsprong.org/websamples.countryinfo\">\n",
    "                        <sCountryISOCode>CA</sCountryISOCode>\n",
    "                    </CapitalCity>\n",
    "                </soap:Body>\n",
    "                </soap:Envelope>\"\"\"\n",
    "# headers\n",
    "headers = {\n",
    "    'Content-Type': 'text/xml; charset=utf-8'\n",
    "}\n",
    "# POST request\n",
    "response = requests.request(\"POST\", url, headers=headers, data=payload)\n",
    "\n",
    "print(response.text)"
   ]
  },
  {
   "cell_type": "code",
   "execution_count": null,
   "metadata": {},
   "outputs": [
    {
     "name": "stdout",
     "output_type": "stream",
     "text": [
      "{'m': 'http://www.oorsprong.org/websamples.countryinfo'}\n",
      "The capital of Canada is: Ottawa\n"
     ]
    }
   ],
   "source": [
    "import xml.etree.ElementTree as ET\n",
    "\n",
    "# The xml.etree.ElementTree is used to parse and navigate the XML. We seach for the tag  CapitalCityResult.\n",
    "\n",
    "root = ET.fromstring(response.text)\n",
    "\n",
    "namespace = {\"m\": \"http://www.oorsprong.org/websamples.countryinfo\"}\n",
    "capital = root.find(\".//m:CapitalCityResult\", namespace).text # Allow to search the tag CapitalCityResult\n",
    "\n",
    "print(f\"The capital of Canada is: {capital}\")"
   ]
  },
  {
   "cell_type": "markdown",
   "metadata": {},
   "source": [
    "--------------------------"
   ]
  },
  {
   "cell_type": "markdown",
   "metadata": {},
   "source": [
    "# REST API Exercise: Star Wars Information Retrieval\n",
    "\n",
    "### Introduction \n",
    "\n",
    "In the exercice, you will explore the Star Wars API (SWAPI) to retrieve and analyze data related to Star Wars characters, films and planets. The SWAPI API is a RESTful web service that provideinformation about Star Wars universe, accessible through various endpoints.\\\n",
    "This exercice is designed to enhance your understanding of working with RESTful APIs, feel free to ask me if you have any question. Each task will build on the previous one so don't hesitate if you are blocked. Make sure to handle bad response code.\n",
    "\n",
    "### Few elements to remember about the REST Protocol\n",
    "\n",
    "REST (Representational State Transfer) is an architectural style for designing networked applications. RESTful APIs (Application Programming Interfaces) conform to the principles of REST, allowing systems to communicate over HTTP in a stateless manner; Some important aspects are:\n",
    "\n",
    "- **Resources:** Everything is a resource, identified by a unique URI.\n",
    "\n",
    "- **HTTP Methods:** CRUD operations are performed using standard HTTP methods (GET, POST, PUT, DELETE).\n",
    "\n",
    "- **Stateless:** Each request from a client contains all the information needed to understand and fulfill the request.\n",
    "\n",
    "### Key Concepts in REST:\n",
    "\n",
    "- **Endpoint:** A specific URI representing a resource. Endpoints are URLs that define where resources can be accessed.\n",
    "\n",
    "- **Basic HTTP Methods:** One of the core objectives of SOAP is to provide a communication method that is independent of the underlying platform or programming language. This promotes interoperability between diverse systems.\n",
    "    - **GET:** Retrieve data from a specified resource.\n",
    "    - **POST:** Submit data to be processed to a specified resource.\n",
    "    - **PUT:** Update a resource.\n",
    "    - **DELETE:** Delete a resource.\n",
    "\n",
    "- **Request and Response:**\n",
    "    - **Request:** The client's message to the server, including the HTTP method, headers, and optional data.\n",
    "    - **Response:** The server's reply to the client's request, containing status information and, optionally, data.\n",
    "\n",
    "\n",
    "### Objective\n",
    "\n",
    "- **Step 1: Introduction:** Find some informations about the SWAPI API : the base URL, the Rate limiting and How to auhtenticate. Find information on all available resources withing this API with a request.\n",
    "\n",
    "- **Step 2: Retrieve Character Information:** Retrieve all characters informations (name, gender, height, ...).\n",
    "\n",
    "- **Step 3: Retrieve Film Information:** Retrieve all films informations (title, director, release date, ...).\n",
    "\n",
    "- **Step 4: Retrieve Planet Information:** Retrieve all planets informations (name, population, climate, ...).\n",
    "\n",
    "- **Step 5: Search and Display:** Create a function to search for and display information about a specific character based on its name. Be sure to handle cases of bad queries and to make at least three unittests with an understandable name.\n",
    "\n",
    "- **Step 6: Advanced Query:** Store in a pandas dataframe all informations about all the characters of the film you want. Group the characters by species at the end.\n",
    "\n",
    "- **Step 7: Data Analysis:** Create an advanced query to retrieve information on all the films, and find a way to rank them according to the number of characters in the film.  \n",
    "\n",
    "- **Step 8 bonus: Additional Endpoint:** Explore an additional endpoint and make a request to display relevant information. For exemple to retrieve starship or vehicles informations.\n",
    "\n",
    "\n",
    "### Documentation link :\n",
    "\n",
    "- https://swapi.dev/documentation"
   ]
  },
  {
   "cell_type": "code",
   "execution_count": null,
   "metadata": {},
   "outputs": [],
   "source": [
    "url = \".......\"\n",
    "params = {\n",
    "}\n",
    "\n",
    "response = requests.get(url, params=params)\n",
    "data = response.json()\n",
    "data"
   ]
  },
  {
   "cell_type": "markdown",
   "metadata": {},
   "source": [
    "### Postman a powerfull tool for"
   ]
  },
  {
   "cell_type": "markdown",
   "metadata": {},
   "source": [
    "--------------------------"
   ]
  },
  {
   "cell_type": "markdown",
   "metadata": {},
   "source": [
    "# Exploring GraphQL APIs"
   ]
  },
  {
   "cell_type": "markdown",
   "metadata": {},
   "source": [
    "Usefull links:\n",
    "- https://graphql.org/learn/queries/\n",
    "- https://graphql-demo.mead.io/\n",
    "\n",
    "Use this graphQL API to make complex requests on Star Wars world:\n",
    "- https://swapi-graphql.netlify.app/"
   ]
  },
  {
   "cell_type": "markdown",
   "metadata": {},
   "source": [
    "On the below cell you have a simple graphQL query."
   ]
  },
  {
   "cell_type": "markdown",
   "metadata": {},
   "source": [
    "# Exploring Star Wars Data with GraphQL\n",
    "\n",
    "### Introduction \n",
    "\n",
    "In this exercice you will retrieve the previous results in another way, by consuming the GraphQL API of SWAPI.\n",
    "\n",
    "### Few elements to remember about the GraphQL Protocol\n",
    "\n",
    "GraphQL is a powerful query language for APIs that provides a more efficient and flexible alternative to traditional REST APIs. In this exercise, we will interact with the Star Wars API (SWAPI) using GraphQL to retrieve specific information about characters, films, and species from the Star Wars universe. Some important aspects are:\n",
    "\n",
    "- **Single Endpoint:** GraphQL APIs typically have a single endpoint for all queries, making it more straightforward to manage and interact with.\n",
    "\n",
    "- **Flexible Responses:** Clients receive exactly the data they request, reducing over-fetching of data common in traditional REST APIs.\n",
    "\n",
    "- **Introspection:** GraphQL supports introspection, allowing clients to query the schema itself, making it self-documenting and aiding in development.\n",
    "\n",
    "### Key Concepts in GraphQL:\n",
    "\n",
    "- **GraphQL Schema:** GraphQL APIs have a schema that defines the types of data available and the relationships between them.\n",
    "\n",
    "- **Queries:** In GraphQL, clients specify the exact data they need using queries, allowing for more efficient data retrieval.\n",
    "\n",
    "- **Fields and Nested Structures:** Queries can include specific fields, and GraphQL supports nested structures to retrieve related data in a single request.\n",
    "\n",
    "\n",
    "### Objective\n",
    "\n",
    "- **Step 1: Introduction:** Understand the REST API Query. You can use the playground for this : https://swapi-graphql.netlify.app/?query=%7B%0A%20%20allFilms%20%7B%0A%20%20%20%20edges%20%7B%0A%20%20%20%20%20%20node%20%7B%0A%20%20%20%20%20%20%20%20id%2C%0A%20%20%20%20%20%20%20%20title%0A%20%20%20%20%20%20%7D%0A%20%20%20%20%7D%0A%20%20%7D%0A%7D\n",
    "\n",
    "- **Step 2: Retrieve Films with Character Information:** Retrieve Films with Character Information in a single query.\n",
    "\n",
    "\n",
    "### Documentation link :\n",
    "\n",
    "- https://swapi.dev/documentation"
   ]
  },
  {
   "cell_type": "code",
   "execution_count": null,
   "metadata": {},
   "outputs": [],
   "source": [
    "import requests\n",
    "\n",
    "url = \"https://swapi-graphql.netlify.app/.netlify/functions/index\"\n",
    "body = \"\"\"\n",
    "query {\n",
    "  allFilms {\n",
    "    edges {\n",
    "      node {\n",
    "        title\n",
    "      }\n",
    "    }\n",
    "  }\n",
    "}\n",
    "\"\"\"\n",
    "\n",
    "response = requests.get(url=url, json={\"query\": body})\n",
    "print(\"response status code: \", response.status_code)\n",
    "if response.status_code == 200:\n",
    "  print(\"response : \", response.json())"
   ]
  },
  {
   "cell_type": "markdown",
   "metadata": {},
   "source": [
    "---------------------------"
   ]
  }
 ],
 "metadata": {
  "kernelspec": {
   "display_name": "Python 3",
   "language": "python",
   "name": "python3"
  },
  "language_info": {
   "codemirror_mode": {
    "name": "ipython",
    "version": 3
   },
   "file_extension": ".py",
   "mimetype": "text/x-python",
   "name": "python",
   "nbconvert_exporter": "python",
   "pygments_lexer": "ipython3",
   "version": "3.12.1"
  },
  "orig_nbformat": 4
 },
 "nbformat": 4,
 "nbformat_minor": 2
}
